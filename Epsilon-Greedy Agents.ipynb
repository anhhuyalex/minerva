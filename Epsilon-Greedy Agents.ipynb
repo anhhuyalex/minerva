{
 "cells": [
  {
   "cell_type": "code",
   "execution_count": 1,
   "metadata": {
    "collapsed": true
   },
   "outputs": [],
   "source": [
    "import numpy as np\n",
    "from scipy.stats import gengamma\n",
    "import matplotlib.pyplot as plt\n",
    "%matplotlib inline"
   ]
  },
  {
   "cell_type": "code",
   "execution_count": 3,
   "metadata": {
    "collapsed": true
   },
   "outputs": [],
   "source": [
    "class initialize_bandits(object):\n",
    "    def __init__(self, n_arms, mu = 30, sigma = 15, a = 5, c = 1):\n",
    "        #Assume reward means are randomly distributed\n",
    "        self.reward_means = np.random.normal(mu,sigma,size=(n_arms,))\n",
    "        #Assume reward variances are inverse gamma distributed\n",
    "        self.reward_var = gengamma.rvs(a, c, size=(n_arms,))\n",
    "    def get_params(self):\n",
    "        print \"My reward means are\", self.reward_means\n",
    "        print \"My reward variances are\", self.reward_var\n",
    "        \n",
    "\n",
    "class Epsilon_learner(object):\n",
    "    def __init__(self, epsilon, n_arms, step = \"average\"):\n",
    "        self.epsilon = epsilon\n",
    "        self.n_arms = n_arms\n",
    "        self.value_estimate = np.zeros((n_arms,))\n",
    "        self.rewards_observed = []\n",
    "        if step == \"average\":\n",
    "            self.step = \"average\"\n",
    "            self.step_size = np.zeros((n_arms,))\n",
    "            \n",
    "    def greedy_choice(self):\n",
    "        #If there's a tie, break tie by random choosing between them?\n",
    "        p = np.random.uniform()\n",
    "        if p < self.epsilon:\n",
    "            return np.random.randint(self.n_arms)\n",
    "        else:\n",
    "            return(np.argmax(self.value_estimate)) #This implementation will tend to choose the first bandit\n",
    "            \n",
    "    def press_lever(self, bandits, arm):\n",
    "        reward =  np.random.normal(bandits.reward_means[arm], bandits.reward_var[arm]) #reward observed\n",
    "        self.rewards_observed.append(reward)\n",
    "        return reward\n",
    "    \n",
    "    def update_value_estimates(self, arm, reward):\n",
    "        if self.step == \"average\":\n",
    "            self.step_size[arm] += 1\n",
    "            self.value_estimate[arm] += float(reward - self.value_estimate[arm]) / self.step_size[arm]\n",
    "   "
   ]
  },
  {
   "cell_type": "code",
   "execution_count": 4,
   "metadata": {
    "collapsed": false,
    "scrolled": false
   },
   "outputs": [],
   "source": [
    "rewards_a = []\n",
    "for agent in range(200):\n",
    "    bandits = initialize_bandits(10)\n",
    "    learner = Epsilon_learner(0.01, 10)\n",
    "    for play in range(1000):\n",
    "        arm = learner.greedy_choice()\n",
    "        reward = learner.press_lever(bandits, arm)\n",
    "        learner.update_value_estimates(arm, reward)\n",
    "    rewards_a.append(learner.rewards_observed)\n",
    "rewards_b = []\n",
    "for agent in range(200):\n",
    "    bandits = initialize_bandits(10)\n",
    "    learner = Epsilon_learner(0.01, 10)\n",
    "    for play in range(1000):\n",
    "        arm = learner.greedy_choice()\n",
    "        reward = learner.press_lever(bandits, arm)\n",
    "        learner.update_value_estimates(arm, reward)\n",
    "    rewards_b.append(learner.rewards_observed)\n",
    "rewards_c = []\n",
    "for agent in range(200):\n",
    "    bandits = initialize_bandits(10)\n",
    "    learner = Epsilon_learner(0.01, 10)\n",
    "    for play in range(1000):\n",
    "        arm = learner.greedy_choice()\n",
    "        reward = learner.press_lever(bandits, arm)\n",
    "        learner.update_value_estimates(arm, reward)\n",
    "    rewards_c.append(learner.rewards_observed)"
   ]
  },
  {
   "cell_type": "code",
   "execution_count": 5,
   "metadata": {
    "collapsed": false
   },
   "outputs": [
    {
     "ename": "AttributeError",
     "evalue": "'list' object has no attribute 'mean'",
     "output_type": "error",
     "traceback": [
      "\u001b[0;31m---------------------------------------------------------------------------\u001b[0m",
      "\u001b[0;31mAttributeError\u001b[0m                            Traceback (most recent call last)",
      "\u001b[0;32m<ipython-input-5-f783fe8a5e02>\u001b[0m in \u001b[0;36m<module>\u001b[0;34m()\u001b[0m\n\u001b[0;32m----> 1\u001b[0;31m \u001b[0mplt\u001b[0m\u001b[0;34m.\u001b[0m\u001b[0mplot\u001b[0m\u001b[0;34m(\u001b[0m\u001b[0mnp\u001b[0m\u001b[0;34m.\u001b[0m\u001b[0marange\u001b[0m\u001b[0;34m(\u001b[0m\u001b[0;36m1000\u001b[0m\u001b[0;34m)\u001b[0m\u001b[0;34m,\u001b[0m \u001b[0mrewards_a\u001b[0m\u001b[0;34m.\u001b[0m\u001b[0mmean\u001b[0m\u001b[0;34m(\u001b[0m\u001b[0maxis\u001b[0m\u001b[0;34m=\u001b[0m\u001b[0;36m0\u001b[0m\u001b[0;34m)\u001b[0m\u001b[0;34m)\u001b[0m\u001b[0;34m\u001b[0m\u001b[0m\n\u001b[0m\u001b[1;32m      2\u001b[0m \u001b[0mplt\u001b[0m\u001b[0;34m.\u001b[0m\u001b[0mplot\u001b[0m\u001b[0;34m(\u001b[0m\u001b[0mnp\u001b[0m\u001b[0;34m.\u001b[0m\u001b[0marange\u001b[0m\u001b[0;34m(\u001b[0m\u001b[0;36m1000\u001b[0m\u001b[0;34m)\u001b[0m\u001b[0;34m,\u001b[0m \u001b[0mrewards_b\u001b[0m\u001b[0;34m.\u001b[0m\u001b[0mmean\u001b[0m\u001b[0;34m(\u001b[0m\u001b[0maxis\u001b[0m\u001b[0;34m=\u001b[0m\u001b[0;36m0\u001b[0m\u001b[0;34m)\u001b[0m\u001b[0;34m)\u001b[0m\u001b[0;34m\u001b[0m\u001b[0m\n\u001b[1;32m      3\u001b[0m \u001b[0mplt\u001b[0m\u001b[0;34m.\u001b[0m\u001b[0mplot\u001b[0m\u001b[0;34m(\u001b[0m\u001b[0mnp\u001b[0m\u001b[0;34m.\u001b[0m\u001b[0marange\u001b[0m\u001b[0;34m(\u001b[0m\u001b[0;36m1000\u001b[0m\u001b[0;34m)\u001b[0m\u001b[0;34m,\u001b[0m \u001b[0mrewards_c\u001b[0m\u001b[0;34m.\u001b[0m\u001b[0mmean\u001b[0m\u001b[0;34m(\u001b[0m\u001b[0maxis\u001b[0m\u001b[0;34m=\u001b[0m\u001b[0;36m0\u001b[0m\u001b[0;34m)\u001b[0m\u001b[0;34m)\u001b[0m\u001b[0;34m\u001b[0m\u001b[0m\n",
      "\u001b[0;31mAttributeError\u001b[0m: 'list' object has no attribute 'mean'"
     ]
    }
   ],
   "source": [
    "plt.plot(np.arange(1000), np.array(rewards_a).mean(axis=0))\n",
    "plt.plot(np.arange(1000), np.array(rewards_a).mean(axis=0))\n",
    "plt.plot(np.arange(1000), rewards_c.mean(axis=0))"
   ]
  }
 ],
 "metadata": {
  "kernelspec": {
   "display_name": "Python 2",
   "language": "python",
   "name": "python2"
  },
  "language_info": {
   "codemirror_mode": {
    "name": "ipython",
    "version": 2
   },
   "file_extension": ".py",
   "mimetype": "text/x-python",
   "name": "python",
   "nbconvert_exporter": "python",
   "pygments_lexer": "ipython2",
   "version": "2.7.13"
  }
 },
 "nbformat": 4,
 "nbformat_minor": 0
}
