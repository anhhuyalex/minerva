{
 "cells": [
  {
   "cell_type": "code",
   "execution_count": 1,
   "metadata": {
    "collapsed": false
   },
   "outputs": [
    {
     "name": "stderr",
     "output_type": "stream",
     "text": [
      "/Users/alng/anaconda/lib/python2.7/site-packages/IPython/core/interactiveshell.py:2723: DtypeWarning: Columns (0,47) have mixed types. Specify dtype option on import or set low_memory=False.\n",
      "  interactivity=interactivity, compiler=compiler, result=result)\n",
      "/Users/alng/anaconda/lib/python2.7/site-packages/ipykernel/__main__.py:12: SettingWithCopyWarning: \n",
      "A value is trying to be set on a copy of a slice from a DataFrame.\n",
      "Try using .loc[row_indexer,col_indexer] = value instead\n",
      "\n",
      "See the caveats in the documentation: http://pandas.pydata.org/pandas-docs/stable/indexing.html#indexing-view-versus-copy\n"
     ]
    },
    {
     "ename": "NameError",
     "evalue": "name 'train_test_split' is not defined",
     "output_type": "error",
     "traceback": [
      "\u001b[0;31m---------------------------------------------------------------------------\u001b[0m",
      "\u001b[0;31mNameError\u001b[0m                                 Traceback (most recent call last)",
      "\u001b[0;32m<ipython-input-1-f0bad2b048bd>\u001b[0m in \u001b[0;36m<module>\u001b[0;34m()\u001b[0m\n\u001b[1;32m     38\u001b[0m \u001b[0mdata\u001b[0m \u001b[0;34m=\u001b[0m \u001b[0mdata\u001b[0m\u001b[0;34m.\u001b[0m\u001b[0massign\u001b[0m\u001b[0;34m(\u001b[0m\u001b[0memployment\u001b[0m\u001b[0;34m=\u001b[0m\u001b[0mdata\u001b[0m\u001b[0;34m.\u001b[0m\u001b[0mapply\u001b[0m\u001b[0;34m(\u001b[0m\u001b[0mextract_emp_length\u001b[0m\u001b[0;34m,\u001b[0m \u001b[0maxis\u001b[0m\u001b[0;34m=\u001b[0m\u001b[0;36m1\u001b[0m\u001b[0;34m)\u001b[0m\u001b[0;34m)\u001b[0m\u001b[0;34m\u001b[0m\u001b[0m\n\u001b[1;32m     39\u001b[0m \u001b[0mno_state_data\u001b[0m \u001b[0;34m=\u001b[0m \u001b[0mdata\u001b[0m\u001b[0;34m[\u001b[0m\u001b[0;34m[\u001b[0m\u001b[0;34m'Amount Requested'\u001b[0m\u001b[0;34m,\u001b[0m \u001b[0;34m'DTI'\u001b[0m\u001b[0;34m,\u001b[0m\u001b[0;34m'employment'\u001b[0m\u001b[0;34m]\u001b[0m\u001b[0;34m]\u001b[0m\u001b[0;34m\u001b[0m\u001b[0m\n\u001b[0;32m---> 40\u001b[0;31m \u001b[0mno_state_data_train\u001b[0m\u001b[0;34m,\u001b[0m \u001b[0mno_state_data_test\u001b[0m\u001b[0;34m,\u001b[0m \u001b[0mloan_train\u001b[0m\u001b[0;34m,\u001b[0m \u001b[0mloan_test\u001b[0m \u001b[0;34m=\u001b[0m \u001b[0mtrain_test_split\u001b[0m\u001b[0;34m(\u001b[0m\u001b[0mno_state_data\u001b[0m\u001b[0;34m,\u001b[0m \u001b[0mdata\u001b[0m\u001b[0;34m[\u001b[0m\u001b[0;34m\"loan_given\"\u001b[0m\u001b[0;34m]\u001b[0m\u001b[0;34m,\u001b[0m \u001b[0mtrain_size\u001b[0m \u001b[0;34m=\u001b[0m \u001b[0;36m0.8\u001b[0m\u001b[0;34m,\u001b[0m \u001b[0mstratify\u001b[0m\u001b[0;34m=\u001b[0m\u001b[0mdata\u001b[0m\u001b[0;34m[\u001b[0m\u001b[0;34m\"loan_given\"\u001b[0m\u001b[0;34m]\u001b[0m\u001b[0;34m,\u001b[0m\u001b[0mrandom_state\u001b[0m\u001b[0;34m=\u001b[0m\u001b[0;36m42\u001b[0m\u001b[0;34m)\u001b[0m\u001b[0;34m\u001b[0m\u001b[0m\n\u001b[0m",
      "\u001b[0;31mNameError\u001b[0m: name 'train_test_split' is not defined"
     ]
    }
   ],
   "source": [
    "import pandas as pd\n",
    "import numpy as np\n",
    "import matplotlib.pyplot as plt\n",
    "%matplotlib inline\n",
    "accept = pd.read_csv(\"LoanStats3a.csv\")\n",
    "reject = pd.read_csv(\"RejectStatsA.csv\")\n",
    "accept['dti'] = np.array(accept['dti'], dtype=float)\n",
    "reject_new = reject[['Amount Requested', 'Debt-To-Income Ratio', 'State','Employment Length']]\n",
    "reject_new.columns = ['Amount Requested', 'DTI', 'State','Employment Length']\n",
    "accept_new = accept[['loan_amnt','dti','addr_state','emp_length']]\n",
    "accept_new.columns = ['Amount Requested', 'DTI', 'State','Employment Length']\n",
    "accept_new['loan_given'] = 1\n",
    "def strip_percentage(data):\n",
    "    string = data['DTI']\n",
    "    percentage = [pos for pos, char in enumerate(string) if char == \"%\"]\n",
    "    if len(percentage) == 1:\n",
    "        return float(string[:percentage[0]])\n",
    "    else:\n",
    "        return float(string)\n",
    "reject_new = reject_new.assign(DTI=reject_new.apply(strip_percentage, axis=1))\n",
    "reject_new['loan_given'] = 0\n",
    "data = reject_new.append(accept_new)\n",
    "data.columns = ['Amount Requested', 'DTI', 'State','Employment Length','loan_given']\n",
    "data = data.dropna(axis=0)\n",
    "data = data[data['Employment Length'] != \"n/a\"]\n",
    "def extract_emp_length(data):\n",
    "    string = data['Employment Length']\n",
    "    digit = string[0]\n",
    "    if digit == \"<\":\n",
    "        return 0\n",
    "    elif digit == \"1\":\n",
    "        if string[1] == \"0\":\n",
    "            return 10\n",
    "        else:\n",
    "            return 1\n",
    "    else:\n",
    "        return int(digit)\n",
    "data = data.assign(employment=data.apply(extract_emp_length, axis=1))\n",
    "no_state_data = data[['Amount Requested', 'DTI','employment']]\n",
    "no_state_data_train, no_state_data_test, loan_train, loan_test = train_test_split(no_state_data, data[\"loan_given\"], train_size = 0.8, stratify=data[\"loan_given\"],random_state=42)"
   ]
  },
  {
   "cell_type": "code",
   "execution_count": null,
   "metadata": {
    "collapsed": true
   },
   "outputs": [],
   "source": []
  }
 ],
 "metadata": {
  "kernelspec": {
   "display_name": "Python 2",
   "language": "python",
   "name": "python2"
  },
  "language_info": {
   "codemirror_mode": {
    "name": "ipython",
    "version": 2
   },
   "file_extension": ".py",
   "mimetype": "text/x-python",
   "name": "python",
   "nbconvert_exporter": "python",
   "pygments_lexer": "ipython2",
   "version": "2.7.13"
  }
 },
 "nbformat": 4,
 "nbformat_minor": 0
}
