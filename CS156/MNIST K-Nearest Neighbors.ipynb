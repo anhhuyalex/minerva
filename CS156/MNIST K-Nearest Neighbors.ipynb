{
 "cells": [
  {
   "cell_type": "code",
   "execution_count": 1,
   "metadata": {
    "collapsed": false
   },
   "outputs": [
    {
     "name": "stdout",
     "output_type": "stream",
     "text": [
      "(1797, 64)\n"
     ]
    }
   ],
   "source": [
    "from sklearn.datasets import load_digits\n",
    "digits = load_digits()\n",
    "print(digits.data.shape)\n",
    "import matplotlib.pyplot as plt \n",
    "%matplotlib inline\n",
    "import numpy as np"
   ]
  },
  {
   "cell_type": "code",
   "execution_count": 2,
   "metadata": {
    "collapsed": false
   },
   "outputs": [],
   "source": [
    "target = digits.target\n",
    "images = digits.images\n",
    "labels_2_or_8 = target[np.logical_or(target==2, target==8)] #distinguish 2 and 8\n",
    "images_2_or_8 = images[np.logical_or(target==2, target==8)]"
   ]
  },
  {
   "cell_type": "code",
   "execution_count": 5,
   "metadata": {
    "collapsed": false
   },
   "outputs": [
    {
     "data": {
      "text/plain": [
       "array([[  0.,   0.,   0.,   4.,  15.,  12.,   0.,   0.],\n",
       "       [  0.,   0.,   3.,  16.,  15.,  14.,   0.,   0.],\n",
       "       [  0.,   0.,   8.,  13.,   8.,  16.,   0.,   0.],\n",
       "       [  0.,   0.,   1.,   6.,  15.,  11.,   0.,   0.],\n",
       "       [  0.,   1.,   8.,  13.,  15.,   1.,   0.,   0.],\n",
       "       [  0.,   9.,  16.,  16.,   5.,   0.,   0.,   0.],\n",
       "       [  0.,   3.,  13.,  16.,  16.,  11.,   5.,   0.],\n",
       "       [  0.,   0.,   0.,   3.,  11.,  16.,   9.,   0.]])"
      ]
     },
     "execution_count": 5,
     "metadata": {},
     "output_type": "execute_result"
    }
   ],
   "source": [
    "images[target==2][0]"
   ]
  },
  {
   "cell_type": "code",
   "execution_count": 42,
   "metadata": {
    "collapsed": false
   },
   "outputs": [
    {
     "data": {
      "text/plain": [
       "<matplotlib.figure.Figure at 0x10defcd50>"
      ]
     },
     "metadata": {},
     "output_type": "display_data"
    },
    {
     "data": {
      "image/png": "[encoded data removed]",
      "text/plain": [
       "<matplotlib.figure.Figure at 0x114b878d0>"
      ]
     },
     "metadata": {},
     "output_type": "display_data"
    },
    {
     "data": {
      "image/png": "[encoded data removed]",
      "text/plain": [
       "<matplotlib.figure.Figure at 0x115749910>"
      ]
     },
     "metadata": {},
     "output_type": "display_data"
    },
    {
     "data": {
      "image/png": "[encoded data removed]",
      "text/plain": [
       "<matplotlib.figure.Figure at 0x1155bd990>"
      ]
     },
     "metadata": {},
     "output_type": "display_data"
    },
    {
     "data": {
      "image/png": "[encoded data removed]",
      "text/plain": [
       "<matplotlib.figure.Figure at 0x114e2b210>"
      ]
     },
     "metadata": {},
     "output_type": "display_data"
    },
    {
     "data": {
      "image/png": "[encoded data removed]",
      "text/plain": [
       "<matplotlib.figure.Figure at 0x11512be90>"
      ]
     },
     "metadata": {},
     "output_type": "display_data"
    },
    {
     "data": {
      "image/png": "[encoded data removed]",
      "text/plain": [
       "<matplotlib.figure.Figure at 0x1157b3310>"
      ]
     },
     "metadata": {},
     "output_type": "display_data"
    }
   ],
   "source": [
    "#Plot a few images\n",
    "plt.gray() \n",
    "plt.matshow(images[target==2][0]) \n",
    "plt.show()\n",
    "plt.matshow(images[target==2][50]) \n",
    "plt.show()\n",
    "plt.matshow(images[target==2][100]) \n",
    "plt.show()\n",
    "plt.matshow(images[target==8][0]) \n",
    "plt.show()\n",
    "plt.matshow(images[target==8][50]) \n",
    "plt.show()\n",
    "plt.matshow(images[target==8][100]) \n",
    "plt.show()"
   ]
  },
  {
   "cell_type": "code",
   "execution_count": 43,
   "metadata": {
    "collapsed": false,
    "scrolled": false
   },
   "outputs": [],
   "source": [
    "#Create train-test split\n",
    "from sklearn.model_selection import train_test_split\n",
    "images_2_or_8_train, images_2_or_8_test, labels_2_or_8_train, labels_2_or_8_test = train_test_split(images_2_or_8, labels_2_or_8, test_size=0.2, random_state=42)"
   ]
  },
  {
   "cell_type": "code",
   "execution_count": 44,
   "metadata": {
    "collapsed": false
   },
   "outputs": [
    {
     "name": "stdout",
     "output_type": "stream",
     "text": [
      "The number of train images:  280\n",
      "The number of test images:  71\n"
     ]
    }
   ],
   "source": [
    "print \"The number of train images: \", len(images_2_or_8_train)\n",
    "print \"The number of test images: \", len(images_2_or_8_test)"
   ]
  },
  {
   "cell_type": "code",
   "execution_count": 48,
   "metadata": {
    "collapsed": false
   },
   "outputs": [],
   "source": [
    "from sklearn.neighbors import KNeighborsClassifier\n",
    "knn = KNeighborsClassifier(n_neighbors=5)"
   ]
  },
  {
   "cell_type": "code",
   "execution_count": 52,
   "metadata": {
    "collapsed": false
   },
   "outputs": [],
   "source": [
    "#Reshape into 64-feature 2-dimensional array \n",
    "images_2_or_8_train = images_2_or_8_train.reshape(len(images_2_or_8_train),64)\n",
    "images_2_or_8_test = images_2_or_8_test.reshape(len(images_2_or_8_test),64)"
   ]
  },
  {
   "cell_type": "code",
   "execution_count": 53,
   "metadata": {
    "collapsed": false
   },
   "outputs": [
    {
     "name": "stdout",
     "output_type": "stream",
     "text": [
      "k is 5, accuracy is 100.00%\n"
     ]
    }
   ],
   "source": [
    "#KNN fit model\n",
    "from sklearn.model_selection import train_test_split\n",
    "knn.fit(images_2_or_8_train, labels_2_or_8_train)\n",
    "score = knn.score(images_2_or_8_test, labels_2_or_8_test)\n",
    "print(\"k is %d, accuracy is %.2f%%\" % (5, score * 100))"
   ]
  },
  {
   "cell_type": "code",
   "execution_count": 54,
   "metadata": {
    "collapsed": false,
    "scrolled": true
   },
   "outputs": [
    {
     "data": {
      "text/plain": [
       "array([2, 8, 2, 8, 2, 2, 2, 8, 8, 2, 8, 2, 2, 8, 2, 2, 8, 2, 2, 2, 8, 8, 8,\n",
       "       2, 8, 8, 8, 2, 2, 2, 2, 8, 8, 2, 2, 8, 2, 2, 2, 8, 8, 8, 2, 8, 2, 8,\n",
       "       8, 8, 2, 8, 8, 8, 8, 8, 2, 8, 2, 8, 2, 2, 2, 8, 2, 8, 8, 8, 2, 8, 8,\n",
       "       2, 2])"
      ]
     },
     "execution_count": 54,
     "metadata": {},
     "output_type": "execute_result"
    }
   ],
   "source": [
    "knn.predict(images_2_or_8_test)"
   ]
  },
  {
   "cell_type": "code",
   "execution_count": 55,
   "metadata": {
    "collapsed": false
   },
   "outputs": [
    {
     "name": "stdout",
     "output_type": "stream",
     "text": [
      "[2 8 2 8 2 2 2 8 8 2 8 2 2 8 2 2 8 2 2 2 8 8 8 2 8 8 8 2 2 2 2 8 8 2 2 8 2\n",
      " 2 2 8 8 8 2 8 2 8 8 8 2 8 8 8 8 8 2 8 2 8 2 2 2 8 2 8 8 8 2 8 8 2 2]\n"
     ]
    }
   ],
   "source": [
    "print labels_2_or_8_test"
   ]
  }
 ],
 "metadata": {
  "kernelspec": {
   "display_name": "Python 2",
   "language": "python",
   "name": "python2"
  },
  "language_info": {
   "codemirror_mode": {
    "name": "ipython",
    "version": 2
   },
   "file_extension": ".py",
   "mimetype": "text/x-python",
   "name": "python",
   "nbconvert_exporter": "python",
   "pygments_lexer": "ipython2",
   "version": "2.7.13"
  }
 },
 "nbformat": 4,
 "nbformat_minor": 0
}
